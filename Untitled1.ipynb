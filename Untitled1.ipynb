{
  "nbformat": 4,
  "nbformat_minor": 0,
  "metadata": {
    "colab": {
      "provenance": []
    },
    "kernelspec": {
      "name": "python3",
      "display_name": "Python 3"
    },
    "language_info": {
      "name": "python"
    }
  },
  "cells": [
    {
      "cell_type": "code",
      "execution_count": null,
      "metadata": {
        "id": "4WY4wjRe1gfy"
      },
      "outputs": [],
      "source": [
        "!pip install transformers"
      ]
    },
    {
      "cell_type": "code",
      "source": [
        "from transformers import pipeline"
      ],
      "metadata": {
        "id": "HIz35Az31jhJ"
      },
      "execution_count": 6,
      "outputs": []
    },
    {
      "cell_type": "code",
      "source": [
        "summarizer = pipeline('summarization')"
      ],
      "metadata": {
        "id": "C3L0OhXT1siK"
      },
      "execution_count": null,
      "outputs": []
    },
    {
      "cell_type": "code",
      "source": [
        "article = \"\"\" 239B. Power of administrator to promulgate Ordinances during\n",
        "recess of Legislature.—(1) If at any time, except when the Legislature of 2\n",
        "[the\n",
        "Union territory of 3\n",
        "[Puducherry]] is in session, the administrator thereof is\n",
        "satisfied that circumstances exist which render it necessary for him to take\n",
        "immediate action, he may promulgate such Ordinances as the circumstances\n",
        "appear to him to require:\n",
        "Provided that no such Ordinance shall be promulgated by the\n",
        "administrator except after obtaining instructions from the President in that\n",
        "behalf:\n",
        "Provided further that whenever the said Legislature is dissolved, or its\n",
        "functioning remains suspended on account of any action taken under any such\n",
        "law as is referred to in clause (1) of article 239A, the administrator shall not\n",
        "promulgate any Ordinance during the period of such dissolution or suspension.\n",
        "(2) An Ordinance promulgated under this article in pursuance of\n",
        "instructions from the President shall be deemed to be an Act of the Legislature\n",
        "of the Union territory which has been duly enacted after complying with the\n",
        "provisions in that behalf contained in any such law as is referred to in clause (1)\n",
        "of article 239A, but every such Ordinance—\n",
        "(a) shall be laid before the Legislature of the Union territory and\n",
        "shall cease to operate at the expiration of six weeks from the reassembly\n",
        "of the Legislature or if, before the expiration of that period, a resolution\n",
        "disapproving it is passed by the Legislature, upon the passing of the\n",
        "resolution; and\n",
        "(b) may be withdrawn at any time by the administrator after\n",
        "obtaining instructions from the President in that behalf.\n",
        "(3) If and so far as an Ordinance under this article makes any provision\n",
        "which would not be valid if enacted in an Act of the Legislature of the Union\n",
        "territory made after complying with the provisions in that behalf contained in\n",
        "any such law as is referred to in clause (1) of article 239A, it shall be void.]\"\"\""
      ],
      "metadata": {
        "id": "Xiss1b5G2iJb"
      },
      "execution_count": 8,
      "outputs": []
    },
    {
      "cell_type": "code",
      "source": [
        "summary = summarizer(article, max_length=130, min_length=30, do_sample=False)"
      ],
      "metadata": {
        "id": "TwffRYPH1-8X"
      },
      "execution_count": 12,
      "outputs": []
    },
    {
      "cell_type": "code",
      "source": [
        "summary"
      ],
      "metadata": {
        "colab": {
          "base_uri": "https://localhost:8080/"
        },
        "id": "VxcxzWcJ39zH",
        "outputId": "89ba581f-bdb4-47c8-f221-9d2217024b33"
      },
      "execution_count": 13,
      "outputs": [
        {
          "output_type": "execute_result",
          "data": {
            "text/plain": [
              "[{'summary_text': ' An Ordinance promulgated under this article will be deemed to be an Act of the Legislature that has been duly enacted after complying with the provisions in that behalf contained in any such law as is referred to in clause (1) of article 239A, it shall be void .'}]"
            ]
          },
          "metadata": {},
          "execution_count": 13
        }
      ]
    },
    {
      "cell_type": "code",
      "source": [],
      "metadata": {
        "id": "zJpCP9of5Eb0"
      },
      "execution_count": null,
      "outputs": []
    }
  ]
}